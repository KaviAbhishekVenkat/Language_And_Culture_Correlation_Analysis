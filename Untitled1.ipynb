{
 "cells": [
  {
   "cell_type": "code",
   "execution_count": 1,
   "metadata": {},
   "outputs": [],
   "source": [
    "from textblob import TextBlob"
   ]
  },
  {
   "cell_type": "code",
   "execution_count": 2,
   "metadata": {},
   "outputs": [],
   "source": [
    "lang = ['chinese','english']"
   ]
  },
  {
   "cell_type": "code",
   "execution_count": 3,
   "metadata": {},
   "outputs": [],
   "source": [
    "data = {}\n",
    "dsize=21\n",
    "for i in range(dsize):\n",
    "    data[i] = {}\n",
    "    data[i]['name'] = open('prodata/'+str(i)+'/name.txt').read()\n",
    "    data[i]['name']=data[i]['name'][:-1]\n",
    "    data[i]['origin'] = open('prodata/'+str(i)+'/origin.txt').read()\n",
    "    for l in lang:\n",
    "        data[i][l] = open('prodata/'+str(i)+'/'+l+'.txt').read()\n",
    "        data[i][l+'1'] = data[i][l][:int(len(data[i][l])/2)]\n",
    "        data[i][l+'2'] = data[i][l][int(len(data[i][l])/2):]"
   ]
  },
  {
   "cell_type": "code",
   "execution_count": 4,
   "metadata": {},
   "outputs": [],
   "source": [
    "for i in range(dsize):\n",
    "    #print('Name of the movie: '+data[i]['name'])\n",
    "    ptot1=0\n",
    "    stot1=0\n",
    "    ptot2=0\n",
    "    stot2=0\n",
    "    for l in lang:\n",
    "        #print(l,TextBlob(data[i][l]).sentiment)\n",
    "        data[i][l+'1_pol'] = TextBlob(data[i][l+'1']).polarity\n",
    "        data[i][l+'2_pol'] = TextBlob(data[i][l+'2']).polarity\n",
    "        ptot1+=data[i][l+'1_pol']\n",
    "        ptot2+=data[i][l+'2_pol']\n",
    "        \n",
    "        data[i][l+'1_sub'] = TextBlob(data[i][l+'1']).subjectivity\n",
    "        data[i][l+'2_sub'] = TextBlob(data[i][l+'2']).subjectivity\n",
    "        stot1+=data[i][l+'1_sub']\n",
    "        stot2+=data[i][l+'2_sub']\n",
    "    ptot1/=len(lang)\n",
    "    stot1/=len(lang)\n",
    "    ptot2/=len(lang)\n",
    "    stot2/=len(lang)\n",
    "    data[i]['mean1_pol'] = ptot1\n",
    "    data[i]['mean1_sub'] = stot1\n",
    "    data[i]['mean2_pol'] = ptot2\n",
    "    data[i]['mean2_sub'] = stot2\n",
    "    #print('\\n\\n\\n')\n",
    "    "
   ]
  },
  {
   "cell_type": "code",
   "execution_count": 5,
   "metadata": {},
   "outputs": [],
   "source": [
    "import pandas as pd\n",
    "import matplotlib.pyplot as plt"
   ]
  },
  {
   "cell_type": "code",
   "execution_count": 6,
   "metadata": {},
   "outputs": [],
   "source": [
    "df = pd.DataFrame(columns = ['id','lang','pol','sub'])"
   ]
  },
  {
   "cell_type": "code",
   "execution_count": 7,
   "metadata": {},
   "outputs": [],
   "source": [
    "k=0\n",
    "for i in range(dsize):\n",
    "    for l in lang:\n",
    "        df.loc[k] = [i,l,data[i][l+'1_pol'],data[i][l+'1_sub']]\n",
    "        k+=1\n",
    "        df.loc[k] = [i,l,data[i][l+'2_pol'],data[i][l+'2_sub']]\n",
    "        k+=1\n",
    "\n",
    "    df.loc[k] = [i,'mean',data[i]['mean1_pol'],data[i]['mean1_sub']]\n",
    "    k+=1\n",
    "    df.loc[k] = [i,'mean',data[i]['mean2_pol'],data[i]['mean2_sub']]\n",
    "    k+=1\n"
   ]
  },
  {
   "cell_type": "code",
   "execution_count": 8,
   "metadata": {},
   "outputs": [],
   "source": [
    "chinese = df[df['lang']=='chinese']\n",
    "chinese.reset_index(drop=True,inplace=True)\n",
    "english = df[df['lang']=='english']\n",
    "english.reset_index(drop=True,inplace=True)\n",
    "mean = df[df['lang']=='mean']\n",
    "mean.reset_index(drop=True,inplace=True)"
   ]
  },
  {
   "cell_type": "code",
   "execution_count": 9,
   "metadata": {},
   "outputs": [
    {
     "data": {
      "image/png": "[encoded data removed]",
      "text/plain": [
       "<Figure size 432x288 with 1 Axes>"
      ]
     },
     "metadata": {},
     "output_type": "display_data"
    },
    {
     "data": {
      "image/png": "[encoded data removed]",
      "text/plain": [
       "<Figure size 432x288 with 1 Axes>"
      ]
     },
     "metadata": {},
     "output_type": "display_data"
    },
    {
     "data": {
      "image/png": "[encoded data removed]",
      "text/plain": [
       "<Figure size 432x288 with 1 Axes>"
      ]
     },
     "metadata": {},
     "output_type": "display_data"
    }
   ],
   "source": [
    "chinese.plot(x='id',y='pol',kind='bar',title='chinese')\n",
    "english.plot(x='id',y='pol',kind='bar',title='english')\n",
    "mean.plot(x='id',y='pol',kind='bar',title='mean')\n",
    "plt.show()"
   ]
  },
  {
   "cell_type": "code",
   "execution_count": 10,
   "metadata": {},
   "outputs": [
    {
     "name": "stderr",
     "output_type": "stream",
     "text": [
      "/home/aaha97/.local/lib/python3.6/site-packages/ipykernel_launcher.py:1: SettingWithCopyWarning: \n",
      "A value is trying to be set on a copy of a slice from a DataFrame.\n",
      "Try using .loc[row_indexer,col_indexer] = value instead\n",
      "\n",
      "See the caveats in the documentation: http://pandas.pydata.org/pandas-docs/stable/indexing.html#indexing-view-versus-copy\n",
      "  \"\"\"Entry point for launching an IPython kernel.\n"
     ]
    }
   ],
   "source": [
    "chinese['norm_pol'] = chinese['pol']-mean['pol']"
   ]
  },
  {
   "cell_type": "code",
   "execution_count": 11,
   "metadata": {},
   "outputs": [
    {
     "name": "stderr",
     "output_type": "stream",
     "text": [
      "/home/aaha97/.local/lib/python3.6/site-packages/ipykernel_launcher.py:1: SettingWithCopyWarning: \n",
      "A value is trying to be set on a copy of a slice from a DataFrame.\n",
      "Try using .loc[row_indexer,col_indexer] = value instead\n",
      "\n",
      "See the caveats in the documentation: http://pandas.pydata.org/pandas-docs/stable/indexing.html#indexing-view-versus-copy\n",
      "  \"\"\"Entry point for launching an IPython kernel.\n"
     ]
    }
   ],
   "source": [
    "english['norm_pol'] = english['pol']-mean['pol']"
   ]
  },
  {
   "cell_type": "code",
   "execution_count": 12,
   "metadata": {},
   "outputs": [
    {
     "data": {
      "text/plain": [
       "<matplotlib.axes._subplots.AxesSubplot at 0x7fa03938a4e0>"
      ]
     },
     "execution_count": 12,
     "metadata": {},
     "output_type": "execute_result"
    },
    {
     "data": {
      "image/png": "[encoded data removed]",
      "text/plain": [
       "<Figure size 432x288 with 1 Axes>"
      ]
     },
     "metadata": {},
     "output_type": "display_data"
    },
    {
     "data": {
      "image/png": "[encoded data removed]",
      "text/plain": [
       "<Figure size 432x288 with 1 Axes>"
      ]
     },
     "metadata": {},
     "output_type": "display_data"
    }
   ],
   "source": [
    "chinese.plot(x='id',y='norm_pol',kind='bar',title='chinese')\n",
    "english.plot(x='id',y='norm_pol',kind='bar',title='english')"
   ]
  },
  {
   "cell_type": "code",
   "execution_count": 13,
   "metadata": {},
   "outputs": [
    {
     "name": "stdout",
     "output_type": "stream",
     "text": [
      "-0.0074486291266183296\n",
      "0.007448629126618332\n"
     ]
    }
   ],
   "source": [
    "import math\n",
    "print(chinese['norm_pol'].sum()/dsize)\n",
    "print(english['norm_pol'].sum()/dsize)"
   ]
  },
  {
   "cell_type": "code",
   "execution_count": 14,
   "metadata": {},
   "outputs": [
    {
     "data": {
      "image/png": "[encoded data removed]",
      "text/plain": [
       "<Figure size 432x288 with 1 Axes>"
      ]
     },
     "metadata": {},
     "output_type": "display_data"
    },
    {
     "data": {
      "image/png": "[encoded data removed]",
      "text/plain": [
       "<Figure size 432x288 with 1 Axes>"
      ]
     },
     "metadata": {},
     "output_type": "display_data"
    },
    {
     "data": {
      "image/png": "[encoded data removed]",
      "text/plain": [
       "<Figure size 432x288 with 1 Axes>"
      ]
     },
     "metadata": {},
     "output_type": "display_data"
    }
   ],
   "source": [
    "chinese.plot(x='id',y='sub',kind='bar',title='chinese')\n",
    "english.plot(x='id',y='sub',kind='bar',title='english')\n",
    "mean.plot(x='id',y='sub',kind='bar',title='mean')\n",
    "plt.show()"
   ]
  },
  {
   "cell_type": "code",
   "execution_count": 15,
   "metadata": {},
   "outputs": [
    {
     "name": "stderr",
     "output_type": "stream",
     "text": [
      "/home/aaha97/.local/lib/python3.6/site-packages/ipykernel_launcher.py:1: SettingWithCopyWarning: \n",
      "A value is trying to be set on a copy of a slice from a DataFrame.\n",
      "Try using .loc[row_indexer,col_indexer] = value instead\n",
      "\n",
      "See the caveats in the documentation: http://pandas.pydata.org/pandas-docs/stable/indexing.html#indexing-view-versus-copy\n",
      "  \"\"\"Entry point for launching an IPython kernel.\n",
      "/home/aaha97/.local/lib/python3.6/site-packages/ipykernel_launcher.py:2: SettingWithCopyWarning: \n",
      "A value is trying to be set on a copy of a slice from a DataFrame.\n",
      "Try using .loc[row_indexer,col_indexer] = value instead\n",
      "\n",
      "See the caveats in the documentation: http://pandas.pydata.org/pandas-docs/stable/indexing.html#indexing-view-versus-copy\n",
      "  \n"
     ]
    }
   ],
   "source": [
    "chinese['norm_sub'] = chinese['sub']-mean['sub']\n",
    "english['norm_sub'] = english['sub']-mean['sub']"
   ]
  },
  {
   "cell_type": "code",
   "execution_count": 16,
   "metadata": {},
   "outputs": [
    {
     "data": {
      "text/plain": [
       "<matplotlib.axes._subplots.AxesSubplot at 0x7fa0392a6cc0>"
      ]
     },
     "execution_count": 16,
     "metadata": {},
     "output_type": "execute_result"
    },
    {
     "data": {
      "image/png": "[encoded data removed]",
      "text/plain": [
       "<Figure size 432x288 with 1 Axes>"
      ]
     },
     "metadata": {},
     "output_type": "display_data"
    },
    {
     "data": {
      "image/png": "[encoded data removed]",
      "text/plain": [
       "<Figure size 432x288 with 1 Axes>"
      ]
     },
     "metadata": {},
     "output_type": "display_data"
    }
   ],
   "source": [
    "chinese.plot(x='id',y='norm_sub',kind='bar',title='chinese')\n",
    "english.plot(x='id',y='norm_sub',kind='bar',title='english')"
   ]
  },
  {
   "cell_type": "code",
   "execution_count": 17,
   "metadata": {},
   "outputs": [
    {
     "name": "stdout",
     "output_type": "stream",
     "text": [
      "0.0003467307805192644\n",
      "-0.0003467307805192723\n"
     ]
    }
   ],
   "source": [
    "print(chinese['norm_sub'].sum()/dsize)\n",
    "print(english['norm_sub'].sum()/dsize)"
   ]
  },
  {
   "cell_type": "code",
   "execution_count": 18,
   "metadata": {},
   "outputs": [],
   "source": [
    "origin = []\n",
    "for i in range(dsize):\n",
    "    origin.append(data[i]['origin'][:-1])\n",
    "    origin.append(data[i]['origin'][:-1])"
   ]
  },
  {
   "cell_type": "code",
   "execution_count": 25,
   "metadata": {},
   "outputs": [],
   "source": [
    "fdata = pd.DataFrame(columns = ['mean_pol','mean_sub',\n",
    "                                'chinese_pol','chinese_sub',\n",
    "                                'english_pol','english_sub',\n",
    "                               'origin'])"
   ]
  },
  {
   "cell_type": "code",
   "execution_count": 57,
   "metadata": {},
   "outputs": [
    {
     "data": {
      "text/plain": [
       "mean_pol       0.018997\n",
       "mean_sub      -0.213913\n",
       "chinese_pol    0.066732\n",
       "chinese_sub   -0.148210\n",
       "english_pol   -0.028437\n",
       "english_sub   -0.236058\n",
       "target         1.000000\n",
       "Name: target, dtype: float64"
      ]
     },
     "execution_count": 57,
     "metadata": {},
     "output_type": "execute_result"
    }
   ],
   "source": [
    "fdata['target'] = fdata.apply(lambda x: 0 if x['origin']=='english' else 1,axis=1)\n",
    "c = fdata.corr()\n",
    "c['target']"
   ]
  },
  {
   "cell_type": "code",
   "execution_count": 35,
   "metadata": {},
   "outputs": [],
   "source": [
    "for i in range(len(data)*2):\n",
    "    fdata.loc[i] = [mean.loc[i]['pol'],mean.loc[i]['sub'],\n",
    "                    chinese.loc[i]['pol'],chinese.loc[i]['sub'],\n",
    "                    english.loc[i]['pol'],english.loc[i]['sub'],\n",
    "                   origin[i]]"
   ]
  },
  {
   "cell_type": "code",
   "execution_count": 54,
   "metadata": {},
   "outputs": [],
   "source": [
    "from sklearn.neighbors.nearest_centroid import NearestCentroid\n",
    "import numpy as np\n",
    "from sklearn.utils import shuffle\n",
    "#fdata = shuffle(fdata)\n",
    "#fdata = fdata.sample(frac=1).reset_index(drop=True)\n",
    "xcols = ['mean_pol','mean_sub',\n",
    "         'chinese_pol','chinese_sub',\n",
    "         'english_pol','english_sub']\n",
    "ycols = ['origin']\n",
    "train_x = fdata[xcols]\n",
    "train_y = fdata[ycols]\n",
    "\n",
    "test_x = fdata[xcols]\n",
    "test_y = fdata[ycols]"
   ]
  },
  {
   "cell_type": "code",
   "execution_count": null,
   "metadata": {},
   "outputs": [],
   "source": []
  },
  {
   "cell_type": "code",
   "execution_count": 55,
   "metadata": {},
   "outputs": [
    {
     "name": "stderr",
     "output_type": "stream",
     "text": [
      "/home/aaha97/.local/lib/python3.6/site-packages/sklearn/utils/validation.py:578: DataConversionWarning: A column-vector y was passed when a 1d array was expected. Please change the shape of y to (n_samples, ), for example using ravel().\n",
      "  y = column_or_1d(y, warn=True)\n"
     ]
    },
    {
     "data": {
      "text/plain": [
       "NearestCentroid(metric='euclidean', shrink_threshold=None)"
      ]
     },
     "execution_count": 55,
     "metadata": {},
     "output_type": "execute_result"
    }
   ],
   "source": [
    "X = train_x\n",
    "y = train_y\n",
    "clf = NearestCentroid()\n",
    "clf.fit(X, y)\n",
    "NearestCentroid(metric='euclidean', shrink_threshold=None)\n",
    "#print(clf.predict([[-0.8, -1]]))\n"
   ]
  },
  {
   "cell_type": "code",
   "execution_count": 56,
   "metadata": {
    "scrolled": true
   },
   "outputs": [
    {
     "name": "stdout",
     "output_type": "stream",
     "text": [
      "['english' 'english' 'english' 'english' 'chinese' 'english' 'chinese'\n",
      " 'english' 'chinese' 'chinese' 'chinese' 'chinese' 'chinese' 'english'\n",
      " 'english' 'english' 'chinese' 'chinese' 'chinese' 'english' 'english'\n",
      " 'english' 'english' 'english' 'english' 'english' 'english' 'english'\n",
      " 'chinese' 'chinese' 'chinese' 'english' 'english' 'english' 'chinese'\n",
      " 'english' 'chinese' 'chinese' 'english' 'chinese' 'chinese' 'english']\n",
      "     origin\n",
      "0   english\n",
      "1   english\n",
      "2   english\n",
      "3   english\n",
      "4   english\n",
      "5   english\n",
      "6   english\n",
      "7   english\n",
      "8   english\n",
      "9   english\n",
      "10  english\n",
      "11  english\n",
      "12  english\n",
      "13  english\n",
      "14  english\n",
      "15  english\n",
      "16  english\n",
      "17  english\n",
      "18  english\n",
      "19  english\n",
      "20  english\n",
      "21  english\n",
      "22  english\n",
      "23  english\n",
      "24  chinese\n",
      "25  chinese\n",
      "26  chinese\n",
      "27  chinese\n",
      "28  chinese\n",
      "29  chinese\n",
      "30  chinese\n",
      "31  chinese\n",
      "32  chinese\n",
      "33  chinese\n",
      "34  chinese\n",
      "35  chinese\n",
      "36  chinese\n",
      "37  chinese\n",
      "38  chinese\n",
      "39  chinese\n",
      "40  chinese\n",
      "41  chinese\n"
     ]
    },
    {
     "data": {
      "text/plain": [
       "array([[ 8, 10],\n",
       "       [10, 14]])"
      ]
     },
     "execution_count": 56,
     "metadata": {},
     "output_type": "execute_result"
    }
   ],
   "source": [
    "y_pred = clf.predict(test_x)\n",
    "print(y_pred)\n",
    "print(test_y[ycols])\n",
    "from sklearn.metrics import confusion_matrix\n",
    "confusion_matrix(test_y, y_pred)"
   ]
  },
  {
   "cell_type": "code",
   "execution_count": null,
   "metadata": {},
   "outputs": [],
   "source": []
  }
 ],
 "metadata": {
  "kernelspec": {
   "display_name": "Python 3",
   "language": "python",
   "name": "python3"
  },
  "language_info": {
   "codemirror_mode": {
    "name": "ipython",
    "version": 3
   },
   "file_extension": ".py",
   "mimetype": "text/x-python",
   "name": "python",
   "nbconvert_exporter": "python",
   "pygments_lexer": "ipython3",
   "version": "3.6.6"
  }
 },
 "nbformat": 4,
 "nbformat_minor": 2
}
